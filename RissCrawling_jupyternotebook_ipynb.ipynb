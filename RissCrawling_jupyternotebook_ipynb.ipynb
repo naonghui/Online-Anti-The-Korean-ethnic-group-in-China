{
 "cells": [
  {
   "cell_type": "markdown",
   "metadata": {
    "id": "fHHxE9x5CO2n"
   },
   "source": [
    "# RISS에서 서지정보 자동 내보내기"
   ]
  },
  {
   "cell_type": "markdown",
   "metadata": {
    "id": "DkTvzTj1CO2t"
   },
   "source": [
    "## 00 라이브러리"
   ]
  },
  {
   "cell_type": "code",
   "execution_count": 1,
   "metadata": {
    "id": "c7MzaLYPvbVP"
   },
   "outputs": [],
   "source": [
    "#크롬 버전 확인 후 크롬 드라이버 설치 필요. 크롬 드라이버 다운로드 받은 파일 경로 기억해둘 것."
   ]
  },
  {
   "cell_type": "code",
   "execution_count": 3,
   "metadata": {
    "colab": {
     "base_uri": "https://localhost:8080/"
    },
    "id": "m5GggqrsCO2u",
    "outputId": "3ec7f658-8021-4eb6-c4fb-bf7f1bc22ede"
   },
   "outputs": [
    {
     "name": "stdout",
     "output_type": "stream",
     "text": [
      "Requirement already satisfied: pandas in c:\\users\\lenovo\\anaconda3\\lib\\site-packages (1.4.4)\n",
      "Requirement already satisfied: selenium in c:\\users\\lenovo\\anaconda3\\lib\\site-packages (4.7.2)\n",
      "Requirement already satisfied: tqdm in c:\\users\\lenovo\\anaconda3\\lib\\site-packages (4.64.1)\n",
      "Requirement already satisfied: beautifulsoup4 in c:\\users\\lenovo\\anaconda3\\lib\\site-packages (4.11.1)\n",
      "Requirement already satisfied: requests in c:\\users\\lenovo\\anaconda3\\lib\\site-packages (2.28.1)\n",
      "Requirement already satisfied: python-dateutil>=2.8.1 in c:\\users\\lenovo\\anaconda3\\lib\\site-packages (from pandas) (2.8.2)\n",
      "Requirement already satisfied: numpy>=1.18.5 in c:\\users\\lenovo\\anaconda3\\lib\\site-packages (from pandas) (1.21.5)\n",
      "Requirement already satisfied: pytz>=2020.1 in c:\\users\\lenovo\\anaconda3\\lib\\site-packages (from pandas) (2022.1)\n",
      "Requirement already satisfied: trio~=0.17 in c:\\users\\lenovo\\anaconda3\\lib\\site-packages (from selenium) (0.22.0)\n",
      "Requirement already satisfied: trio-websocket~=0.9 in c:\\users\\lenovo\\anaconda3\\lib\\site-packages (from selenium) (0.9.2)\n",
      "Requirement already satisfied: urllib3[socks]~=1.26 in c:\\users\\lenovo\\anaconda3\\lib\\site-packages (from selenium) (1.26.11)\n",
      "Requirement already satisfied: certifi>=2021.10.8 in c:\\users\\lenovo\\anaconda3\\lib\\site-packages (from selenium) (2022.9.14)\n",
      "Requirement already satisfied: colorama in c:\\users\\lenovo\\anaconda3\\lib\\site-packages (from tqdm) (0.4.5)\n",
      "Requirement already satisfied: soupsieve>1.2 in c:\\users\\lenovo\\anaconda3\\lib\\site-packages (from beautifulsoup4) (2.3.1)\n",
      "Requirement already satisfied: charset-normalizer<3,>=2 in c:\\users\\lenovo\\anaconda3\\lib\\site-packages (from requests) (2.0.4)\n",
      "Requirement already satisfied: idna<4,>=2.5 in c:\\users\\lenovo\\anaconda3\\lib\\site-packages (from requests) (3.3)\n",
      "Requirement already satisfied: six>=1.5 in c:\\users\\lenovo\\anaconda3\\lib\\site-packages (from python-dateutil>=2.8.1->pandas) (1.16.0)\n",
      "Requirement already satisfied: async-generator>=1.9 in c:\\users\\lenovo\\anaconda3\\lib\\site-packages (from trio~=0.17->selenium) (1.10)\n",
      "Requirement already satisfied: attrs>=19.2.0 in c:\\users\\lenovo\\anaconda3\\lib\\site-packages (from trio~=0.17->selenium) (21.4.0)\n",
      "Requirement already satisfied: cffi>=1.14 in c:\\users\\lenovo\\anaconda3\\lib\\site-packages (from trio~=0.17->selenium) (1.15.1)\n",
      "Requirement already satisfied: exceptiongroup>=1.0.0rc9 in c:\\users\\lenovo\\anaconda3\\lib\\site-packages (from trio~=0.17->selenium) (1.1.0)\n",
      "Requirement already satisfied: outcome in c:\\users\\lenovo\\anaconda3\\lib\\site-packages (from trio~=0.17->selenium) (1.2.0)\n",
      "Requirement already satisfied: sortedcontainers in c:\\users\\lenovo\\anaconda3\\lib\\site-packages (from trio~=0.17->selenium) (2.4.0)\n",
      "Requirement already satisfied: sniffio in c:\\users\\lenovo\\anaconda3\\lib\\site-packages (from trio~=0.17->selenium) (1.2.0)\n",
      "Requirement already satisfied: wsproto>=0.14 in c:\\users\\lenovo\\anaconda3\\lib\\site-packages (from trio-websocket~=0.9->selenium) (1.2.0)\n",
      "Requirement already satisfied: PySocks!=1.5.7,<2.0,>=1.5.6 in c:\\users\\lenovo\\anaconda3\\lib\\site-packages (from urllib3[socks]~=1.26->selenium) (1.7.1)\n",
      "Requirement already satisfied: pycparser in c:\\users\\lenovo\\anaconda3\\lib\\site-packages (from cffi>=1.14->trio~=0.17->selenium) (2.21)\n",
      "Requirement already satisfied: h11<1,>=0.9.0 in c:\\users\\lenovo\\anaconda3\\lib\\site-packages (from wsproto>=0.14->trio-websocket~=0.9->selenium) (0.14.0)\n"
     ]
    }
   ],
   "source": [
    "# 필요 라이브러리 설치\n",
    "!pip install pandas selenium tqdm beautifulsoup4 requests\n",
    "#!apt-get update # to update ubuntu to correctly run apt install\n",
    "#!apt install chromium-chromedriver\n",
    "\n",
    "# 라이브러리 불러오기\n",
    "import pandas as pd\n",
    "from selenium import webdriver\n",
    "from selenium.webdriver.common.by import By\n",
    "from bs4 import BeautifulSoup\n",
    "from tqdm import tqdm\n",
    "import time, os, shutil, requests #시간, 시스템, 셸유틸리티(파일명 바꾸기), http 요청\n",
    "\n",
    "from selenium.common.exceptions import ElementClickInterceptedException\n",
    "from selenium.common.exceptions import NoSuchElementException\n",
    "from selenium.common.exceptions import UnexpectedAlertPresentException"
   ]
  },
  {
   "cell_type": "markdown",
   "metadata": {
    "id": "Lo7O5V3KCO2v"
   },
   "source": [
    "#### 다운로드 폴더 설정(riss 폴더)"
   ]
  },
  {
   "cell_type": "code",
   "execution_count": 8,
   "metadata": {
    "colab": {
     "base_uri": "https://localhost:8080/",
     "height": 35
    },
    "id": "7lHrySVmCO2v",
    "outputId": "2e1291fb-1021-4edd-86a1-82c1a7313fa1"
   },
   "outputs": [
    {
     "data": {
      "text/plain": [
       "'/Users/LENOVO/Desktop/riss_test'"
      ]
     },
     "execution_count": 8,
     "metadata": {},
     "output_type": "execute_result"
    }
   ],
   "source": [
    "# download_path = os.getcwd()\n",
    "download_path = '/Users/LENOVO/Desktop/riss_test'\n",
    "download_path"
   ]
  },
  {
   "cell_type": "code",
   "execution_count": 9,
   "metadata": {
    "id": "OKHvgP5qCO2v"
   },
   "outputs": [],
   "source": [
    "# 참고 : https://cozynow.tistory.com/43\n",
    "options = webdriver.ChromeOptions()\n",
    "options.add_experimental_option(\"prefs\", {\n",
    "  \"download.default_directory\": download_path,\n",
    "  \"download.prompt_for_download\": False,\n",
    "  \"download.directory_upgrade\": True,\n",
    "  \"safebrowsing.enabled\": True\n",
    "})"
   ]
  },
  {
   "cell_type": "markdown",
   "metadata": {
    "id": "8O5wtIhsCO2w"
   },
   "source": [
    "## 01 크롬 가동 및 셀레늄 시험\n",
    "아래 링크에서 운영체제에 맞는 크롬 드라이버 다운로드\n",
    "https://chromedriver.chromium.org/downloads"
   ]
  },
  {
   "cell_type": "code",
   "execution_count": 11,
   "metadata": {
    "id": "_QgkDRf2CO2w",
    "outputId": "576bb969-71d3-42ca-af57-ffea636e8cfd",
    "scrolled": true
   },
   "outputs": [
    {
     "name": "stderr",
     "output_type": "stream",
     "text": [
      "C:\\Users\\LENOVO\\AppData\\Local\\Temp\\ipykernel_101008\\3678066498.py:1: DeprecationWarning: executable_path has been deprecated, please pass in a Service object\n",
      "  driver = webdriver.Chrome('/Users/LENOVO/Downloads/chromedriver', options=options) #chromedriver 설치 위치 지정\n"
     ]
    }
   ],
   "source": [
    "driver = webdriver.Chrome('/Users/LENOVO/Downloads/chromedriver', options=options) #chromedriver 설치 위치 지정\n",
    "#driver.implicitly_wait(3) #웹페이지 로드를 기다리는 시간을 지정할 수 있음 괄호 안에 숫자로 지정"
   ]
  },
  {
   "cell_type": "markdown",
   "metadata": {
    "id": "QodFOp7YCO2w"
   },
   "source": [
    "#### 논문 검색조건\n",
    "출판년도 : 2000~2019  \n",
    "학과정보 : '국어국문' OR '국문'  \n",
    "학위 : 국내박사"
   ]
  },
  {
   "cell_type": "code",
   "execution_count": 12,
   "metadata": {
    "id": "2EKgExr8CO2x"
   },
   "outputs": [],
   "source": [
    "driver.get('https://www-riss-kr-ssl.glibproxy.gachon.ac.kr:8443/search/Search.do?isDetailSearch=Y&searchGubun=true&viewYn=OP&queryText=znTitle%2C%EC%A1%B0%EC%84%A0%EC%A1%B1%40op%2COR%40znAbstract%2C%EC%A1%B0%EC%84%A0%EC%A1%B1&strQuery=&exQuery=&exQueryText=&order=%2FDESC&onHanja=false&strSort=RANK&p_year1=1992&p_year2=2002&iStartCount=0&orderBy=&mat_type=&mat_subtype=T2%2CT1&fulltext_kind=&t_gubun=&learning_type=&ccl_code=&inside_outside=&fric_yn=&image_yn=&gubun=&kdc=&ttsUseYn=&l_sub_code=&fsearchMethod=search&sflag=1&isFDetailSearch=N&pageNumber=1&resultKeyword=&fsearchSort=&fsearchOrder=&limiterList=&limiterListText=&facetList=&facetListText=&fsearchDB=&icate=bib_t&colName=bib_t&pageScale=100&isTab=Y&regnm=&dorg_storage=&language=&language_code=&clickKeyword=&relationKeyword=&query=')"
   ]
  },
  {
   "cell_type": "code",
   "execution_count": 13,
   "metadata": {
    "id": "3H2qFssRCO2x",
    "scrolled": true
   },
   "outputs": [],
   "source": [
    "# 파일선택\n",
    "# 문법 바뀜 by 이하 삭제\n",
    "#driver.find_element(By.CSS_SELECTOR, '#divContent > div > div.rightContent.wd756 > div > div.srchResultW > div.srchResultListW > ul > li:nth-child(1) > div.cont.ml60 > p.title > a').click() #파일 하나\n",
    "driver.find_element(By.CSS_SELECTOR, '#divContent > div > div.rightContent.wd756 > div > div.srchResultW > div:nth-child(1) > div.resultTop1 > label > span').click()\n",
    "#divContent > div > div.rightContent.wd756 > div > div.srchResultW > div:nth-child(1) > div.resultTop1 > label > span"
   ]
  },
  {
   "cell_type": "code",
   "execution_count": 16,
   "metadata": {
    "id": "_brkchMNCO2x"
   },
   "outputs": [],
   "source": [
    "# 내보내기\n",
    "# #thesisInfoDiv > div.btnBunch > div.btnBunchR > ul > li:nth-child(1) > a\n",
    "# #divContent > div > div.rightContent.wd756 > div > div.srchResultW > div:nth-child(1) > div.resultTop1 > ul > li:nth-child(1) > a\n",
    "# driver.find_element(By.CSS_SELECTOR, '#thesisInfoDiv > div.btnBunch > div.btnBunchR > ul > li:nth-child(1) > a').click()\n",
    "driver.find_element(By.CSS_SELECTOR, '#divContent > div > div.rightContent.wd756 > div > div.srchResultW > div:nth-child(1) > div.resultTop1 > ul > li:nth-child(1) > a').click()"
   ]
  },
  {
   "cell_type": "code",
   "execution_count": 17,
   "metadata": {
    "id": "4tzRUMXdCO2x"
   },
   "outputs": [],
   "source": [
    "# 팝업창 컨트롤\n",
    "driver.switch_to.window(driver.window_handles[-1])"
   ]
  },
  {
   "cell_type": "code",
   "execution_count": 18,
   "metadata": {
    "id": "xgkp2qSDCO2y"
   },
   "outputs": [],
   "source": [
    "# Excel 저장 선택\n",
    "driver.find_element(By.CSS_SELECTOR, '#wrap > form > div > div.popCont > div:nth-child(1) > div > ul > li:nth-child(3) > label').click()"
   ]
  },
  {
   "cell_type": "code",
   "execution_count": 19,
   "metadata": {
    "id": "sc3zdSwgCO2y"
   },
   "outputs": [],
   "source": [
    "# Excel 상세정보 선택\n",
    "driver.find_element(By.CSS_SELECTOR, '#riss_gubun > ul > li:nth-child(2) > label').click()"
   ]
  },
  {
   "cell_type": "code",
   "execution_count": 20,
   "metadata": {
    "id": "M5-HcZkfCO2y"
   },
   "outputs": [],
   "source": [
    "# 데이터 표시양식 '가로' 설정\n",
    "driver.find_element(By.CSS_SELECTOR, '#excel_gubun > ul > li:nth-child(2) > label').click()"
   ]
  },
  {
   "cell_type": "code",
   "execution_count": 21,
   "metadata": {
    "id": "rRCmxJaYCO2y"
   },
   "outputs": [],
   "source": [
    "# 내보내기 클릭\n",
    "driver.find_element(By.CSS_SELECTOR, '#riss_gubun > div.btnBunch > a.btnType1').click()"
   ]
  },
  {
   "cell_type": "code",
   "execution_count": 22,
   "metadata": {
    "id": "M6YKyCp5CO2y"
   },
   "outputs": [],
   "source": [
    "# 다시 메인 윈도우로 복귀\n",
    "driver.switch_to.window(driver.window_handles[0])"
   ]
  },
  {
   "cell_type": "markdown",
   "metadata": {
    "id": "kE0Fq-dzCO2z"
   },
   "source": [
    "## 02 자동 내보내기"
   ]
  },
  {
   "cell_type": "markdown",
   "metadata": {
    "id": "Ikp5Az67CO2z"
   },
   "source": [
    "#### RISS에서 가장 마지막 페이지 번호"
   ]
  },
  {
   "cell_type": "code",
   "execution_count": 30,
   "metadata": {
    "id": "-czALYiGCO2z"
   },
   "outputs": [],
   "source": [
    "n = 2"
   ]
  },
  {
   "cell_type": "markdown",
   "metadata": {
    "id": "ykTqNuxECO2z"
   },
   "source": [
    "#### 자동 다운로드 파일 이름 설정"
   ]
  },
  {
   "cell_type": "code",
   "execution_count": 31,
   "metadata": {
    "id": "GYVyyudaCO2z"
   },
   "outputs": [],
   "source": [
    "keyword = '조선족'"
   ]
  },
  {
   "cell_type": "markdown",
   "metadata": {
    "id": "I03Kf3RnCO20"
   },
   "source": [
    "#### 자동 내보내기 시작"
   ]
  },
  {
   "cell_type": "code",
   "execution_count": 32,
   "metadata": {
    "id": "5XkGXfygvbVY",
    "outputId": "8ffc816d-5fbe-4ad3-88bc-6c7939370879"
   },
   "outputs": [
    {
     "name": "stderr",
     "output_type": "stream",
     "text": [
      "C:\\Users\\LENOVO\\AppData\\Local\\Temp\\ipykernel_101008\\3564001305.py:1: DeprecationWarning: executable_path has been deprecated, please pass in a Service object\n",
      "  driver = webdriver.Chrome('/Users/LENOVO/Downloads/chromedriver', options=options) #chromedriver 설치 위치 지정\n"
     ]
    }
   ],
   "source": [
    "driver = webdriver.Chrome('/Users/LENOVO/Downloads/chromedriver', options=options) #chromedriver 설치 위치 지정"
   ]
  },
  {
   "cell_type": "code",
   "execution_count": 35,
   "metadata": {
    "id": "wZddg-ZEvbVY"
   },
   "outputs": [],
   "source": [
    "driver.get('https://www-riss-kr-ssl.glibproxy.gachon.ac.kr:8443/search/Search.do?isDetailSearch=N&searchGubun=true&viewYn=OP&queryText=&strQuery=%EC%A1%B0%EC%84%A0%EC%A1%B1&exQuery=&exQueryText=&order=%2FDESC&onHanja=false&strSort=RANK&p_year1=&p_year2=&iStartCount=0&orderBy=&mat_type=&mat_subtype=&fulltext_kind=&t_gubun=&learning_type=&ccl_code=&inside_outside=&fric_yn=&image_yn=&gubun=&kdc=&ttsUseYn=&l_sub_code=&fsearchMethod=search&sflag=1&isFDetailSearch=N&pageNumber=1&resultKeyword=%EC%A1%B0%EC%84%A0%EC%A1%B1&fsearchSort=&fsearchOrder=&limiterList=&limiterListText=&facetList=&facetListText=&fsearchDB=&icate=bib_t&colName=bib_t&pageScale=10&isTab=Y&regnm=&dorg_storage=&language=&language_code=&clickKeyword=&relationKeyword=&query=%EC%A1%B0%EC%84%A0%EC%A1%B1')"
   ]
  },
  {
   "cell_type": "code",
   "execution_count": 36,
   "metadata": {
    "id": "1FWBRm4hCO20",
    "outputId": "35e9b551-2b82-4234-fe5c-2e5d97372942"
   },
   "outputs": [
    {
     "name": "stderr",
     "output_type": "stream",
     "text": [
      "100%|██████████| 2/2 [00:21<00:00, 10.79s/it]\n"
     ]
    }
   ],
   "source": [
    "for list_num in tqdm(range(1,n+1)):\n",
    "    # print(list_num)\n",
    "\n",
    "    # 파일선택\n",
    "    driver.implicitly_wait(10)\n",
    "    driver.find_element(By.CSS_SELECTOR, '#divContent > div > div.rightContent.wd756 > div > div.srchResultW > div:nth-child(1) > div.resultTop1 > label > span').click()\n",
    "    # 내보내기\n",
    "    driver.implicitly_wait(60)\n",
    "    driver.find_element(By.CSS_SELECTOR, '#divContent > div > div.rightContent.wd756 > div > div.srchResultW > div:nth-child(1) > div.resultTop1 > ul > li:nth-child(1) > a').click()    # 팝업창 컨트롤\n",
    "    driver.implicitly_wait(10)\n",
    "    driver.switch_to.window(driver.window_handles[-1])\n",
    "    # Excel 저장 선택\n",
    "    driver.implicitly_wait(20)\n",
    "    driver.find_element(By.CSS_SELECTOR, '#wrap > form > div > div.popCont > div:nth-child(1) > div > ul > li:nth-child(3) > label').click()\n",
    "    # Excel 상세정보 선택\n",
    "    driver.implicitly_wait(10)\n",
    "    driver.find_element(By.CSS_SELECTOR, '#riss_gubun > ul > li:nth-child(2) > label').click()\n",
    "    # 데이터 표시양식 '가로' 설정\n",
    "    driver.implicitly_wait(10)\n",
    "    driver.find_element(By.CSS_SELECTOR, '#excel_gubun > ul > li:nth-child(2) > label').click()\n",
    "    # 내보내기 클릭\n",
    "    driver.implicitly_wait(10)\n",
    "    driver.find_element(By.CSS_SELECTOR, '#riss_gubun > div.btnBunch > a.btnType1').click()\n",
    "    \n",
    "    # 다운로드 완료될 때까지 대기\n",
    "    driver.implicitly_wait(10)\n",
    "    try:\n",
    "        filename = max([download_path + '//' + f for f in os.listdir(download_path) if f=='myCabinetExcelData.xls'],key=os.path.getctime)\n",
    "    except ValueError as e:\n",
    "        time.sleep(1)\n",
    "\n",
    "    # 팝업창 닫기\n",
    "    driver.implicitly_wait(5)\n",
    "    driver.close()\n",
    "    # 다시 메인 화면으로 스위치\n",
    "    driver.implicitly_wait(5)\n",
    "    driver.switch_to.window(driver.window_handles[0])\n",
    "\n",
    "    # 방금 다운 받은 파일 이름 바꾸기 -> 중복방지\n",
    "    time.sleep(5)\n",
    "    try:\n",
    "        filename = max([download_path + '//' + f for f in os.listdir(download_path) if f=='myCabinetExcelData.xls'],key=os.path.getctime)\n",
    "        time.sleep(0.5)\n",
    "        shutil.move(filename,os.path.join(download_path,f\"{keyword}_{list_num}.xls\")) ## 파일 이름 + num 설정\n",
    "    except ValueError:\n",
    "        time.sleep(0.5)\n",
    "    except FileNotFoundError:\n",
    "        time.sleep(1)\n",
    "\n",
    "    # 다음 페이지 이동\n",
    "    time.sleep(1)\n",
    "    if list_num!=n:\n",
    "        if (list_num)%10!=0:\n",
    "            for i in range(10):\n",
    "            # 다음페이지 클릭\n",
    "                try:\n",
    "                    driver.implicitly_wait(10)\n",
    "                    if(list_num+1)%10!=0:\n",
    "                        # 10페이지 이하 일때\n",
    "                        if list_num<10:\n",
    "                            driver.find_element(By.CSS_SELECTOR, f'#divContent > div > div.rightContent.wd756 > div > div.paging > a:nth-child({((list_num+1)%10)+1})').click()\n",
    "                        else:\n",
    "                            driver.find_element(By.CSS_SELECTOR, f'#divContent > div > div.rightContent.wd756 > div > div.paging > a:nth-child({((list_num+1)%10)+2})').click()\n",
    "                    else:\n",
    "                        if list_num<10:\n",
    "                            driver.find_element(By.CSS_SELECTOR, '#divContent > div > div.rightContent.wd756 > div > div.paging > a:nth-child(11)').click()\n",
    "                        else:\n",
    "                            driver.find_element(By.CSS_SELECTOR, '#divContent > div > div.rightContent.wd756 > div > div.paging > a:nth-child(12)').click()\n",
    "                except NoSuchElementException as e:\n",
    "                    print('retry in 1s.')\n",
    "                    time.sleep(1)\n",
    "                else:\n",
    "                    break\n",
    "        else:\n",
    "            # 현재 10 * n 페이지 일때는 다음 화살표 클릭\n",
    "            driver.implicitly_wait(10)\n",
    "            # #divContent > div > div.rightContent.wd756 > div > div.paging > a.next1\n",
    "            driver.find_element(By.CSS_SELECTOR, '#divContent > div > div.rightContent.wd756 > div > div.paging > a.next1').click()\n",
    "            print('\\n next tab')\n",
    "            # else:\n",
    "            #     # driver.find_element_by_css_selector('#level4_mainContent > form > div.tabWarp.page > div.tabCont > div > div.passing > span:nth-child(4) > a > img').click()\n",
    "            #     driver.find_element_by_css_selector('#divContent > div.rightContent > div > div.paging > a.next2').click()\n",
    "            #     print('next tab')\n",
    "            #list_num += 1"
   ]
  },
  {
   "cell_type": "code",
   "execution_count": null,
   "metadata": {
    "id": "oT7YoRiyUMeY"
   },
   "outputs": [],
   "source": []
  }
 ],
 "metadata": {
  "colab": {
   "provenance": [],
   "toc_visible": true
  },
  "kernelspec": {
   "display_name": "Python 3 (ipykernel)",
   "language": "python",
   "name": "python3"
  },
  "language_info": {
   "codemirror_mode": {
    "name": "ipython",
    "version": 3
   },
   "file_extension": ".py",
   "mimetype": "text/x-python",
   "name": "python",
   "nbconvert_exporter": "python",
   "pygments_lexer": "ipython3",
   "version": "3.9.13"
  }
 },
 "nbformat": 4,
 "nbformat_minor": 1
}
